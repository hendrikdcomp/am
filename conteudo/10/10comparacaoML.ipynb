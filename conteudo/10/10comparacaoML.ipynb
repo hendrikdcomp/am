{
 "cells": [
  {
   "cell_type": "markdown",
   "metadata": {},
   "source": [
    "# Teste de hipótese Wilcoxon signed-rank"
   ]
  },
  {
   "cell_type": "markdown",
   "metadata": {},
   "source": [
    "Dois arrays de valores que se referem a algum experimento são comparados para verificar se realmente possuem diferença significativa entre si.\n",
    "<br>\n",
    "Estes valores podem, por exemplo, ser substituidos por medidas de acurácia para vários datasets; cada array refereria-se nesse caso a um modelo de classificação participante da comparação. "
   ]
  },
  {
   "cell_type": "code",
   "execution_count": 46,
   "metadata": {},
   "outputs": [
    {
     "name": "stdout",
     "output_type": "stream",
     "text": [
      "Soma_R: 0.0 p_value: 0.00333001391175\n",
      "H1 verdadeira: a diferença entre as medições é significativa!\n"
     ]
    }
   ],
   "source": [
    "import numpy as np\n",
    "from scipy.stats import wilcoxon\n",
    "\n",
    "# dados quaisquer\n",
    "data = np.array([\n",
    "[5260, 3910],\n",
    "[5470, 4220],\n",
    "[5640, 3885],\n",
    "[6180, 5160],\n",
    "[6390, 5645],\n",
    "[6515, 4680],\n",
    "[6805, 5265],\n",
    "[7515, 5975],\n",
    "[7515, 6790],\n",
    "[8230, 6900],\n",
    "[8770, 7335],\n",
    "])\n",
    "\n",
    "exp1 = data[:, 0]\n",
    "exp2 = data[:, 1]\n",
    "\n",
    "# Hipótese nula (H0): a diferença entre as duas medições não é significativa\n",
    "# Se valor de p_value < 0.05 => hipótese alternativa (H1): a diferença é significativa\n",
    "# soma_R guarda o menor entre R+ e R-\n",
    "soma_R, p_value = wilcoxon(exp1,exp2, zero_method='zsplit')\n",
    "\n",
    "print (\"Soma_R:\", soma_R, \"p_value:\", p_value)\n",
    "if (p_value < 0.05): print (\"H1 verdadeira: a diferença entre as medições é significativa!\")\n",
    "else: print (\"H0 verdadeira: a diferença entre as medições NÃO é significativa!\")"
   ]
  },
  {
   "cell_type": "code",
   "execution_count": 66,
   "metadata": {},
   "outputs": [
    {
     "name": "stdout",
     "output_type": "stream",
     "text": [
      "Soma_R: 4.5 p_value: 0.853923299287\n",
      "H0 verdadeira: a diferença entre as medições NÃO é significativa!\n"
     ]
    },
    {
     "name": "stderr",
     "output_type": "stream",
     "text": [
      "/anaconda/lib/python3.6/site-packages/scipy/stats/morestats.py:2397: UserWarning: Warning: sample size too small for normal approximation.\n",
      "  warnings.warn(\"Warning: sample size too small for normal approximation.\")\n"
     ]
    }
   ],
   "source": [
    "# dados do slide\n",
    "data = np.array([\n",
    "[0.583, 0.583],\n",
    "[0.583, 0.583],\n",
    "[0.882, 0.888],\n",
    "[0.599, 0.591]\n",
    "])\n",
    "\n",
    "#data2 = np.random.rand(25,2)\n",
    "#print (data2)\n",
    "\n",
    "exp1 = data[:, 0]\n",
    "exp2 = data[:, 1]\n",
    "\n",
    "# hipótese nula: a diferença entre as duas medições não é significativa\n",
    "# Se valor de p_value < 0.05 => hipótese alternativa: a diferença é significativa\n",
    "# soma_R guarda o menor entre R+ e R-\n",
    "soma_R, p_value = wilcoxon(exp1,exp2, zero_method='zsplit')\n",
    "\n",
    "print (\"Soma_R:\", soma_R, \"p_value:\", p_value)\n",
    "if (p_value < 0.05): print (\"H1 verdadeira: a diferença entre as medições é significativa!\")\n",
    "else: print (\"H0 verdadeira: a diferença entre as medições NÃO é significativa!\")"
   ]
  }
 ],
 "metadata": {
  "kernelspec": {
   "display_name": "Python 3",
   "language": "python",
   "name": "python3"
  },
  "language_info": {
   "codemirror_mode": {
    "name": "ipython",
    "version": 3
   },
   "file_extension": ".py",
   "mimetype": "text/x-python",
   "name": "python",
   "nbconvert_exporter": "python",
   "pygments_lexer": "ipython3",
   "version": "3.6.1"
  }
 },
 "nbformat": 4,
 "nbformat_minor": 2
}
